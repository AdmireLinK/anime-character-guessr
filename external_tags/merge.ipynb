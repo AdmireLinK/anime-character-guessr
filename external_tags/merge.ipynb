{
 "cells": [
  {
   "cell_type": "code",
   "execution_count": 1,
   "metadata": {},
   "outputs": [
    {
     "name": "stdout",
     "output_type": "stream",
     "text": [
      "Merged JSON saved as extra_tags.json\n"
     ]
    }
   ],
   "source": [
    "import json\n",
    "import os\n",
    "\n",
    "json_files = [\n",
    "    os.path.join('extracted_data', f)\n",
    "    for f in os.listdir('extracted_data')\n",
    "    if f.endswith('.json') and os.path.isfile(os.path.join('extracted_data', f))\n",
    "]\n",
    "\n",
    "merged = {}\n",
    "\n",
    "for file in json_files:\n",
    "    with open(file, 'r', encoding='utf-8') as f:\n",
    "        data = json.load(f)\n",
    "        merged.update(data)  # If keys overlap, later files overwrite earlier ones\n",
    "\n",
    "# Save the merged result\n",
    "with open('extra_tags.json', 'w', encoding='utf-8') as f:\n",
    "    json.dump(merged, f, ensure_ascii=False, indent=2)\n",
    "\n",
    "print(\"Merged JSON saved as extra_tags.json\")"
   ]
  },
  {
   "cell_type": "code",
   "execution_count": null,
   "metadata": {},
   "outputs": [],
   "source": []
  }
 ],
 "metadata": {
  "kernelspec": {
   "display_name": "Python 3",
   "language": "python",
   "name": "python3"
  },
  "language_info": {
   "codemirror_mode": {
    "name": "ipython",
    "version": 3
   },
   "file_extension": ".py",
   "mimetype": "text/x-python",
   "name": "python",
   "nbconvert_exporter": "python",
   "pygments_lexer": "ipython3",
   "version": "3.13.0"
  }
 },
 "nbformat": 4,
 "nbformat_minor": 2
}
